{
 "cells": [
  {
   "cell_type": "markdown",
   "metadata": {},
   "source": [
    "Title: \n",
    "\n",
    "Predicting whether a patient is diabetic based on early stage diabetic symptoms.\n"
   ]
  },
  {
   "cell_type": "markdown",
   "metadata": {},
   "source": [
    "Introduction: \n",
    "\n",
    "Warning signs of diabetes can be so mild that some people don't notice it until there is long-term damage. We will be using the Early stage diabetes risk prediction dataset from the UCI Machine Learning Repository. The dataset contains signs and symptoms of patients that are newly diabetic or would be diabetic. Using this dataset, we can answer the question of: Based on a patient's pre-existing conditions, could they be diabetic? \n",
    "\n"
   ]
  },
  {
   "cell_type": "markdown",
   "metadata": {},
   "source": [
    "Expected outcomes and significance:\n",
    "\n",
    "We expect to find the accuracy of our classification model that predicts whether or not a patient is diabetic. These findings can help us adjust our model accordingly, to build a reliable model to predict diabetic patients. This could lead to future questions such as finding which symptoms are most highly correlated with diabetes."
   ]
  }
 ],
 "metadata": {
  "kernelspec": {
   "display_name": "R",
   "language": "R",
   "name": "ir"
  },
  "language_info": {
   "codemirror_mode": "r",
   "file_extension": ".r",
   "mimetype": "text/x-r-source",
   "name": "R",
   "pygments_lexer": "r",
   "version": "4.0.0"
  }
 },
 "nbformat": 4,
 "nbformat_minor": 4
}
Methods:

-we will split diabetes data into test set (25%) and training set (75%) 
-using training set to find the best k-nn classifier 
-use 2 variables: “visible_blurring” and “polyphagia” to predict “class”. From time to time, disease diagnosis (specifically, diabetes) are predicted from a blur image on radiograph (Vajuhudeen, 2005). In addition, people with diabetes cannot use glucose to synthesize energy for cells, which causes “polyphagia” phenomena (Tarman, 2014). 
-then follow forward steps to predict whether the patient is “positive” or “negative” with diabetes 
-after checking accuracy, we will use line plot to with the best fit K value to visualize our data.
-

Tarman, V. I., Werdell, P. R., desLibris - Books, & Canadian Electronic Library (Firm). (2014). Food junkies: The truth about food addiction. Dundurn.
Vajuhudeen, Z. (n.d.). Blur: Radiology reference article. Retrieved March 06, 2021, from https://radiopaedia.org/articles/blur
 
