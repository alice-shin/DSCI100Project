{
 "cells": [
  {
   "cell_type": "markdown",
   "metadata": {},
   "source": [
    "Title: \n",
    "\n",
    "Predicting whether a patient is diabetic based on early stage diabetic symptoms.\n"
   ]
  },
  {
   "cell_type": "markdown",
   "metadata": {},
   "source": [
    "Introduction: \n",
    "\n",
    "Warning signs of diabetes can be so mild that some people don't notice it until there is long-term damage. We will be using the Early stage diabetes risk prediction dataset from the UCI Machine Learning Repository. The dataset contains signs and symptoms of patients that are newly diabetic or would be diabetic. Using this dataset, we can answer the question of: Based on a patient's pre-existing conditions, could they be diabetic? \n",
    "\n"
   ]
  },
  {
   "cell_type": "markdown",
   "metadata": {},
   "source": [
    "Preliminary exploratory data analysis:"
   ]
  },
  {
   "cell_type": "code",
   "execution_count": 1,
   "metadata": {},
   "outputs": [
    {
     "name": "stderr",
     "output_type": "stream",
     "text": [
      "── \u001b[1mAttaching packages\u001b[22m ─────────────────────────────────────── tidyverse 1.3.0 ──\n",
      "\n",
      "\u001b[32m✔\u001b[39m \u001b[34mggplot2\u001b[39m 3.3.2     \u001b[32m✔\u001b[39m \u001b[34mpurrr  \u001b[39m 0.3.4\n",
      "\u001b[32m✔\u001b[39m \u001b[34mtibble \u001b[39m 3.0.3     \u001b[32m✔\u001b[39m \u001b[34mdplyr  \u001b[39m 1.0.2\n",
      "\u001b[32m✔\u001b[39m \u001b[34mtidyr  \u001b[39m 1.1.2     \u001b[32m✔\u001b[39m \u001b[34mstringr\u001b[39m 1.4.0\n",
      "\u001b[32m✔\u001b[39m \u001b[34mreadr  \u001b[39m 1.3.1     \u001b[32m✔\u001b[39m \u001b[34mforcats\u001b[39m 0.5.0\n",
      "\n",
      "Warning message:\n",
      "“package ‘ggplot2’ was built under R version 4.0.1”\n",
      "Warning message:\n",
      "“package ‘tibble’ was built under R version 4.0.2”\n",
      "Warning message:\n",
      "“package ‘tidyr’ was built under R version 4.0.2”\n",
      "Warning message:\n",
      "“package ‘dplyr’ was built under R version 4.0.2”\n",
      "── \u001b[1mConflicts\u001b[22m ────────────────────────────────────────── tidyverse_conflicts() ──\n",
      "\u001b[31m✖\u001b[39m \u001b[34mdplyr\u001b[39m::\u001b[32mfilter()\u001b[39m masks \u001b[34mstats\u001b[39m::filter()\n",
      "\u001b[31m✖\u001b[39m \u001b[34mdplyr\u001b[39m::\u001b[32mlag()\u001b[39m    masks \u001b[34mstats\u001b[39m::lag()\n",
      "\n",
      "Warning message:\n",
      "“package ‘rvest’ was built under R version 4.0.2”\n",
      "Loading required package: xml2\n",
      "\n",
      "\n",
      "Attaching package: ‘rvest’\n",
      "\n",
      "\n",
      "The following object is masked from ‘package:purrr’:\n",
      "\n",
      "    pluck\n",
      "\n",
      "\n",
      "The following object is masked from ‘package:readr’:\n",
      "\n",
      "    guess_encoding\n",
      "\n",
      "\n"
     ]
    }
   ],
   "source": [
    "library(tidyverse)\n",
    "library(repr)\n",
    "library(readxl)\n",
    "options(repr.matrix.max.rows = 6)\n",
    "library(rvest)\n",
    "library(rsample)"
   ]
  },
  {
   "cell_type": "code",
   "execution_count": 24,
   "metadata": {},
   "outputs": [
    {
     "name": "stderr",
     "output_type": "stream",
     "text": [
      "Parsed with column specification:\n",
      "cols(\n",
      "  Age = \u001b[32mcol_double()\u001b[39m,\n",
      "  Gender = \u001b[31mcol_character()\u001b[39m,\n",
      "  Polyuria = \u001b[31mcol_character()\u001b[39m,\n",
      "  Polydipsia = \u001b[31mcol_character()\u001b[39m,\n",
      "  `sudden weight loss` = \u001b[31mcol_character()\u001b[39m,\n",
      "  weakness = \u001b[31mcol_character()\u001b[39m,\n",
      "  Polyphagia = \u001b[31mcol_character()\u001b[39m,\n",
      "  `Genital thrush` = \u001b[31mcol_character()\u001b[39m,\n",
      "  `visual blurring` = \u001b[31mcol_character()\u001b[39m,\n",
      "  Itching = \u001b[31mcol_character()\u001b[39m,\n",
      "  Irritability = \u001b[31mcol_character()\u001b[39m,\n",
      "  `delayed healing` = \u001b[31mcol_character()\u001b[39m,\n",
      "  `partial paresis` = \u001b[31mcol_character()\u001b[39m,\n",
      "  `muscle stiffness` = \u001b[31mcol_character()\u001b[39m,\n",
      "  Alopecia = \u001b[31mcol_character()\u001b[39m,\n",
      "  Obesity = \u001b[31mcol_character()\u001b[39m,\n",
      "  class = \u001b[31mcol_character()\u001b[39m\n",
      ")\n",
      "\n"
     ]
    }
   ],
   "source": [
    "diabetes_data <- read_csv(\"diabetes_data_upload.csv\")\n",
    "diabetes_data <- diabetes_data %>%\n",
    "  mutate(class = as_factor(class))\n",
    "\n",
    "diabetes_split <- initial_split(diabetes_data, prop=0.75, strata=class)\n",
    "diabetes_train <- training(diabetes_split)\n",
    "diabetes_test <- testing(diabetes_split)"
   ]
  },
  {
   "cell_type": "code",
   "execution_count": 16,
   "metadata": {},
   "outputs": [
    {
     "name": "stderr",
     "output_type": "stream",
     "text": [
      "`summarise()` ungrouping output (override with `.groups` argument)\n",
      "\n"
     ]
    },
    {
     "data": {
      "text/html": [
       "<table>\n",
       "<caption>A tibble: 2 × 3</caption>\n",
       "<thead>\n",
       "\t<tr><th scope=col>class</th><th scope=col>n</th><th scope=col>percentage</th></tr>\n",
       "\t<tr><th scope=col>&lt;fct&gt;</th><th scope=col>&lt;int&gt;</th><th scope=col>&lt;dbl&gt;</th></tr>\n",
       "</thead>\n",
       "<tbody>\n",
       "\t<tr><td>Positive</td><td>240</td><td>61.53846</td></tr>\n",
       "\t<tr><td>Negative</td><td>150</td><td>38.46154</td></tr>\n",
       "</tbody>\n",
       "</table>\n"
      ],
      "text/latex": [
       "A tibble: 2 × 3\n",
       "\\begin{tabular}{lll}\n",
       " class & n & percentage\\\\\n",
       " <fct> & <int> & <dbl>\\\\\n",
       "\\hline\n",
       "\t Positive & 240 & 61.53846\\\\\n",
       "\t Negative & 150 & 38.46154\\\\\n",
       "\\end{tabular}\n"
      ],
      "text/markdown": [
       "\n",
       "A tibble: 2 × 3\n",
       "\n",
       "| class &lt;fct&gt; | n &lt;int&gt; | percentage &lt;dbl&gt; |\n",
       "|---|---|---|\n",
       "| Positive | 240 | 61.53846 |\n",
       "| Negative | 150 | 38.46154 |\n",
       "\n"
      ],
      "text/plain": [
       "  class    n   percentage\n",
       "1 Positive 240 61.53846  \n",
       "2 Negative 150 38.46154  "
      ]
     },
     "metadata": {},
     "output_type": "display_data"
    }
   ],
   "source": [
    "\n",
    "num_obs <- nrow(diabetes_train)\n",
    "diabetes_train %>%\n",
    "  group_by(class) %>%\n",
    "  summarize(\n",
    "    n = n(),\n",
    "    percentage = n() / num_obs * 100)"
   ]
  },
  {
   "cell_type": "code",
   "execution_count": 31,
   "metadata": {},
   "outputs": [
    {
     "data": {
      "image/png": "[encoded data removed]",
      "text/plain": [
       "plot without title"
      ]
     },
     "metadata": {
      "image/png": {
       "height": 420,
       "width": 420
      }
     },
     "output_type": "display_data"
    }
   ],
   "source": [
    "diabetes_data %>%\n",
    "    select(Obesity, class) %>%\n",
    "    filter(class==\"Positive\") %>%\n",
    "    ggplot( aes(x = Obesity, y = class, fill=Obesity))+\n",
    "    geom_bar(stat=\"identity\") +\n",
    "    xlab(\"Obesity status\") +\n",
    "    ylab(\"Number of positive diabetes patients\")"
   ]
  },
  {
   "cell_type": "markdown",
   "metadata": {},
   "source": [
    "Methods:\n",
    "\n",
    " -We will split diabetes data into test set (25%) and training set (75%) \n",
    " -Using training set to find the best k-nn classifier \n",
    " -Use 2 variables: “visible_blurring” and “polyphagia” to predict “class”. From time to time, disease diagnosis (specifically, diabetes) are predicted from a blur image on radiograph (Vajuhudeen, 2005). In addition, people with diabetes cannot use glucose to synthesize energy for cells, which causes “polyphagia” phenomena (Tarman, 2014). \n",
    " -Then follow forward steps to predict whether the patient is “positive” or “negative” with diabetes \n",
    " -After checking accuracy, we will use line plot to with the best fit K value to visualize our data.\n",
    " \n",
    "\n",
    " Tarman, V. I., Werdell, P. R., desLibris - Books, & Canadian Electronic Library (Firm). (2014). Food junkies: The truth about food addiction. Dundurn.\n",
    " Vajuhudeen, Z. (n.d.). Blur: Radiology reference article. Retrieved March 06, 2021, from https://radiopaedia.org/articles/blur\n",
    "\n"
   ]
  },
  {
   "cell_type": "markdown",
   "metadata": {},
   "source": [
    "Expected outcomes and significance:\n",
    "\n",
    "We expect to find the accuracy of our classification model that predicts whether or not a patient is diabetic. These findings can help us adjust our model accordingly, to build a reliable model to predict diabetic patients. This could lead to future questions such as finding which symptoms are most highly correlated with diabetes."
   ]
  }
 ],
 "metadata": {
  "kernelspec": {
   "display_name": "R",
   "language": "R",
   "name": "ir"
  },
  "language_info": {
   "codemirror_mode": "r",
   "file_extension": ".r",
   "mimetype": "text/x-r-source",
   "name": "R",
   "pygments_lexer": "r",
   "version": "4.0.0"
  }
 },
 "nbformat": 4,
 "nbformat_minor": 4
}
