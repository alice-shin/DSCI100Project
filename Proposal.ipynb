{
 "cells": [
  {
   "cell_type": "markdown",
   "metadata": {},
   "source": [
    "Title: Predicting whether a patient is diabetic based on early stage diabetic symptoms\n"
   ]
  },
  {
   "cell_type": "markdown",
   "metadata": {},
   "source": [
    "Introduction: Warning signs of diabetes can be so mild that some people don't notice it until there is long-term damage. We will be using the Early stage diabetes risk prediction dataset from the UCI Machine Learning Repository. The dataset contains signs and symptoms of patients that are newly diabetic or would be diabetic. Using this dataset, we can use patients pre-existing conditions to answer the question of: Based on a patient's sign and symptoms, would they be diabetic? \n",
    "\n"
   ]
  }
 ],
 "metadata": {
  "kernelspec": {
   "display_name": "R",
   "language": "R",
   "name": "ir"
  },
  "language_info": {
   "codemirror_mode": "r",
   "file_extension": ".r",
   "mimetype": "text/x-r-source",
   "name": "R",
   "pygments_lexer": "r",
   "version": "4.0.0"
  }
 },
 "nbformat": 4,
 "nbformat_minor": 4
}
