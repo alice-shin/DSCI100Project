{
 "cells": [
  {
   "cell_type": "markdown",
   "metadata": {},
   "source": [
    "Title: \n",
    "\n",
    "Predicting whether a patient is diabetic based on early stage diabetic symptoms.\n"
   ]
  },
  {
   "cell_type": "markdown",
   "metadata": {},
   "source": [
    "Introduction: \n",
    "\n",
    "Warning signs of diabetes can be so mild that some people don't notice it until there is long-term damage. We will be using the Early stage diabetes risk prediction dataset from the UCI Machine Learning Repository. The dataset contains signs and symptoms of patients that are newly diabetic or would be diabetic. Using this dataset, we can answer the question of: Based on a patient's pre-existing conditions, could they be diabetic? \n",
    "\n"
   ]
  },
  {
   "cell_type": "markdown",
   "metadata": {},
   "source": [
    "Preliminary exploratory data analysis:"
   ]
  },
  {
   "cell_type": "code",
   "execution_count": 1,
   "metadata": {},
   "outputs": [
    {
     "name": "stderr",
     "output_type": "stream",
     "text": [
      "── \u001b[1mAttaching packages\u001b[22m ─────────────────────────────────────── tidyverse 1.3.0 ──\n",
      "\n",
      "\u001b[32m✔\u001b[39m \u001b[34mggplot2\u001b[39m 3.3.2     \u001b[32m✔\u001b[39m \u001b[34mpurrr  \u001b[39m 0.3.4\n",
      "\u001b[32m✔\u001b[39m \u001b[34mtibble \u001b[39m 3.0.3     \u001b[32m✔\u001b[39m \u001b[34mdplyr  \u001b[39m 1.0.2\n",
      "\u001b[32m✔\u001b[39m \u001b[34mtidyr  \u001b[39m 1.1.2     \u001b[32m✔\u001b[39m \u001b[34mstringr\u001b[39m 1.4.0\n",
      "\u001b[32m✔\u001b[39m \u001b[34mreadr  \u001b[39m 1.3.1     \u001b[32m✔\u001b[39m \u001b[34mforcats\u001b[39m 0.5.0\n",
      "\n",
      "Warning message:\n",
      "“package ‘ggplot2’ was built under R version 4.0.1”\n",
      "Warning message:\n",
      "“package ‘tibble’ was built under R version 4.0.2”\n",
      "Warning message:\n",
      "“package ‘tidyr’ was built under R version 4.0.2”\n",
      "Warning message:\n",
      "“package ‘dplyr’ was built under R version 4.0.2”\n",
      "── \u001b[1mConflicts\u001b[22m ────────────────────────────────────────── tidyverse_conflicts() ──\n",
      "\u001b[31m✖\u001b[39m \u001b[34mdplyr\u001b[39m::\u001b[32mfilter()\u001b[39m masks \u001b[34mstats\u001b[39m::filter()\n",
      "\u001b[31m✖\u001b[39m \u001b[34mdplyr\u001b[39m::\u001b[32mlag()\u001b[39m    masks \u001b[34mstats\u001b[39m::lag()\n",
      "\n"
     ]
    }
   ],
   "source": [
    "library(tidyverse)\n",
    "library(repr)\n",
    "library(readxl)\n",
    "options(repr.matrix.max.rows = 6)"
   ]
  },
  {
   "cell_type": "code",
   "execution_count": 2,
   "metadata": {},
   "outputs": [
    {
     "ename": "ERROR",
     "evalue": "Error: 'data/diabetes_data_upload.csv' does not exist in current working directory ('/home/jupyter/DSCI_100_Project/DSCI100Project').\n",
     "output_type": "error",
     "traceback": [
      "Error: 'data/diabetes_data_upload.csv' does not exist in current working directory ('/home/jupyter/DSCI_100_Project/DSCI100Project').\nTraceback:\n",
      "1. read_csv(\"data/diabetes_data_upload.csv\")",
      "2. read_delimited(file, tokenizer, col_names = col_names, col_types = col_types, \n .     locale = locale, skip = skip, skip_empty_rows = skip_empty_rows, \n .     comment = comment, n_max = n_max, guess_max = guess_max, \n .     progress = progress)",
      "3. standardise_path(file)",
      "4. check_path(path)",
      "5. stop(\"'\", path, \"' does not exist\", if (!is_absolute_path(path)) paste0(\" in current working directory ('\", \n .     getwd(), \"')\"), \".\", call. = FALSE)"
     ]
    }
   ],
   "source": [
    "diabetes_data <- read_csv(\"data/diabetes_data_upload.csv\")\n",
    "diabetes_data"
   ]
  },
  {
   "cell_type": "code",
   "execution_count": null,
   "metadata": {},
   "outputs": [],
   "source": [
    "set.seed(3456)\n",
    "\n",
    "diabetes_split <- initial_split(diabetes_data, prop=0.75, strata=class)\n",
    "diabetes_train <- training(diabetes_split)\n",
    "diabetes_test <- testing(diabetes_split)"
   ]
  },
  {
   "cell_type": "code",
   "execution_count": null,
   "metadata": {},
   "outputs": [],
   "source": [
    "diabetes_data %>%\n",
    "    select(Obesity, class) %>%\n",
    "    filter(class==\"Positive\") %>%\n",
    "    geom_bar(stat=\"identity\") +\n",
    "    xlab(\"Obesity status\") +\n",
    "    ylab(\"Number of positive diabetes patients\")"
   ]
  },
  {
   "cell_type": "markdown",
   "metadata": {},
   "source": [
    "Methods:\n",
    "\n",
    " -we will split diabetes data into test set (25%) and training set (75%) \n",
    " -using training set to find the best k-nn classifier \n",
    " -use 2 variables: “visible_blurring” and “polyphagia” to predict “class”. From time to time, disease diagnosis (specifically, diabetes) are predicted from a blur image on radiograph (Vajuhudeen, 2005). In addition, people with diabetes cannot use glucose to synthesize energy for cells, which causes “polyphagia” phenomena (Tarman, 2014). \n",
    " -then follow forward steps to predict whether the patient is “positive” or “negative” with diabetes \n",
    " -after checking accuracy, we will use line plot to with the best fit K value to visualize our data.\n",
    " -\n",
    "\n",
    " Tarman, V. I., Werdell, P. R., desLibris - Books, & Canadian Electronic Library (Firm). (2014). Food junkies: The truth about food addiction. Dundurn.\n",
    " Vajuhudeen, Z. (n.d.). Blur: Radiology reference article. Retrieved March 06, 2021, from https://radiopaedia.org/articles/blur\n",
    "\n"
   ]
  },
  {
   "cell_type": "markdown",
   "metadata": {},
   "source": [
    "Expected outcomes and significance:\n",
    "\n",
    "We expect to find the accuracy of our classification model that predicts whether or not a patient is diabetic. These findings can help us adjust our model accordingly, to build a reliable model to predict diabetic patients. This could lead to future questions such as finding which symptoms are most highly correlated with diabetes."
   ]
  }
 ],
 "metadata": {
  "kernelspec": {
   "display_name": "R",
   "language": "R",
   "name": "ir"
  },
  "language_info": {
   "codemirror_mode": "r",
   "file_extension": ".r",
   "mimetype": "text/x-r-source",
   "name": "R",
   "pygments_lexer": "r",
   "version": "4.0.0"
  }
 },
 "nbformat": 4,
 "nbformat_minor": 4
}
