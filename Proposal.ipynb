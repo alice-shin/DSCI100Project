{
 "cells": [
  {
   "cell_type": "markdown",
   "metadata": {},
   "source": [
    "Title: \n",
    "\n",
    "Predicting whether a patient is diabetic based on early stage diabetic symptoms.\n"
   ]
  },
  {
   "cell_type": "markdown",
   "metadata": {},
   "source": [
    "Introduction: \n",
    "\n",
    "Warning signs of diabetes can be so mild that some people don't notice it until there is long-term damage. We will be using the Early stage diabetes risk prediction dataset from the UCI Machine Learning Repository. The dataset contains signs and symptoms of patients that are newly diabetic or would be diabetic. Using this dataset, we can answer the question of: Based on a patient's pre-existing conditions, could they be diabetic? \n",
    "\n"
   ]
  },
  {
   "cell_type": "markdown",
   "metadata": {},
   "source": [
    "Preliminary exploratory data analysis:"
   ]
  },
  {
   "cell_type": "code",
   "execution_count": 13,
   "metadata": {},
   "outputs": [],
   "source": [
    "library(tidyverse)\n",
    "library(repr)\n",
    "library(readxl)\n",
    "options(repr.matrix.max.rows = 6)\n",
    "library(rvest)\n",
    "library(rsample)"
   ]
  },
  {
   "cell_type": "code",
   "execution_count": 14,
   "metadata": {},
   "outputs": [
    {
     "data": {
      "text/plain": [
       "{html_document}\n",
       "<html>\n",
       "[1] <body><p>Age,Gender,Polyuria,Polydipsia,sudden weight loss,weakness,Polyp ..."
      ]
     },
     "metadata": {},
     "output_type": "display_data"
    }
   ],
   "source": [
    "diabetes_data <- read_html(\"https://archive.ics.uci.edu/ml/machine-learning-databases/00529/diabetes_data_upload.csv\")\n",
    "diabetes_data"
   ]
  },
  {
   "cell_type": "code",
   "execution_count": 15,
   "metadata": {},
   "outputs": [
    {
     "ename": "ERROR",
     "evalue": "Error: Can't subset columns that don't exist.\n\u001b[31m✖\u001b[39m Column `class` doesn't exist.\n",
     "output_type": "error",
     "traceback": [
      "Error: Can't subset columns that don't exist.\n\u001b[31m✖\u001b[39m Column `class` doesn't exist.\nTraceback:\n",
      "1. initial_split(diabetes_data, prop = 0.75, strata = class)",
      "2. tidyselect::vars_select(names(data), !!enquo(strata))",
      "3. eval_select_impl(NULL, .vars, expr(c(!!!dots)), include = .include, \n .     exclude = .exclude, strict = .strict, name_spec = unique_name_spec, \n .     uniquely_named = TRUE)",
      "4. with_subscript_errors(vars_select_eval(vars, expr, strict, data = x, \n .     name_spec = name_spec, uniquely_named = uniquely_named, allow_rename = allow_rename, \n .     type = type), type = type)",
      "5. tryCatch(instrument_base_errors(expr), vctrs_error_subscript = function(cnd) {\n .     cnd$subscript_action <- subscript_action(type)\n .     cnd$subscript_elt <- \"column\"\n .     cnd_signal(cnd)\n . })",
      "6. tryCatchList(expr, classes, parentenv, handlers)",
      "7. tryCatchOne(expr, names, parentenv, handlers[[1L]])",
      "8. value[[3L]](cond)",
      "9. cnd_signal(cnd)",
      "10. rlang:::signal_abort(x)"
     ]
    }
   ],
   "source": [
    "set.seed(3456)\n",
    "\n",
    "diabetes_split <- initial_split(diabetes_data, prop=0.75, strata=class)\n",
    "diabetes_train <- training(diabetes_split)\n",
    "diabetes_test <- testing(diabetes_split)"
   ]
  },
  {
   "cell_type": "code",
   "execution_count": 4,
   "metadata": {},
   "outputs": [
    {
     "ename": "ERROR",
     "evalue": "Error in eval(lhs, parent, parent): object 'diabetes_data' not found\n",
     "output_type": "error",
     "traceback": [
      "Error in eval(lhs, parent, parent): object 'diabetes_data' not found\nTraceback:\n",
      "1. diabetes_data %>% select(Obesity, class) %>% filter(class == \n .     \"Positive\") %>% geom_bar(stat = \"identity\")",
      "2. eval(lhs, parent, parent)",
      "3. eval(lhs, parent, parent)"
     ]
    }
   ],
   "source": [
    "diabetes_data %>%\n",
    "    select(Obesity, class) %>%\n",
    "    filter(class==\"Positive\") %>%\n",
    "    geom_bar(stat=\"identity\") +\n",
    "    xlab(\"Obesity status\") +\n",
    "    ylab(\"Number of positive diabetes patients\") "
   ]
  },
  {
   "cell_type": "markdown",
   "metadata": {},
   "source": [
    "Methods:\n",
    "\n",
    " -we will split diabetes data into test set (25%) and training set (75%) \n",
    " -using training set to find the best k-nn classifier \n",
    " -use 2 variables: “visible_blurring” and “polyphagia” to predict “class”. From time to time, disease diagnosis (specifically, diabetes) are predicted from a blur image on radiograph (Vajuhudeen, 2005). In addition, people with diabetes cannot use glucose to synthesize energy for cells, which causes “polyphagia” phenomena (Tarman, 2014). \n",
    " -then follow forward steps to predict whether the patient is “positive” or “negative” with diabetes \n",
    " -after checking accuracy, we will use line plot to with the best fit K value to visualize our data.\n",
    " -\n",
    "\n",
    " Tarman, V. I., Werdell, P. R., desLibris - Books, & Canadian Electronic Library (Firm). (2014). Food junkies: The truth about food addiction. Dundurn.\n",
    " Vajuhudeen, Z. (n.d.). Blur: Radiology reference article. Retrieved March 06, 2021, from https://radiopaedia.org/articles/blur\n",
    "\n"
   ]
  },
  {
   "cell_type": "markdown",
   "metadata": {},
   "source": [
    "Expected outcomes and significance:\n",
    "\n",
    "We expect to find the accuracy of our classification model that predicts whether or not a patient is diabetic. These findings can help us adjust our model accordingly, to build a reliable model to predict diabetic patients. This could lead to future questions such as finding which symptoms are most highly correlated with diabetes."
   ]
  }
 ],
 "metadata": {
  "kernelspec": {
   "display_name": "R",
   "language": "R",
   "name": "ir"
  },
  "language_info": {
   "codemirror_mode": "r",
   "file_extension": ".r",
   "mimetype": "text/x-r-source",
   "name": "R",
   "pygments_lexer": "r",
   "version": "4.0.0"
  }
 },
 "nbformat": 4,
 "nbformat_minor": 4
}
